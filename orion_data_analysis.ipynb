{
 "cells": [
  {
   "cell_type": "code",
   "execution_count": 19,
   "metadata": {},
   "outputs": [
    {
     "data": {
      "text/plain": [
       "<google.api_core.page_iterator.HTTPIterator at 0x1036d02d0>"
      ]
     },
     "execution_count": 19,
     "metadata": {},
     "output_type": "execute_result"
    }
   ],
   "source": [
    "import pandas as pd\n",
    "import numpy as np\n",
    "import google.auth\n",
    "from google.auth import compute_engine\n",
    "from google.cloud import bigquery\n",
    "\n",
    "# Create the BQ client. This will ask you to log in the first time.\n",
    "\n",
    "project_id = 'data-engineering-prod'\n",
    "client = bigquery.Client(project=project_id)\n",
    "\n",
    "# List all datasets in project\n",
    "client.list_datasets()"
   ]
  },
  {
   "cell_type": "code",
   "execution_count": 22,
   "metadata": {},
   "outputs": [
    {
     "name": "stdout",
     "output_type": "stream",
     "text": [
      "landing_andromeda contains 107 views\n",
      "landing_andromeda_secure contains 660 views\n",
      "landing_identity_secure contains 4 views\n",
      "landing_orex_secure contains 16 views\n",
      "landing_orion_migration_secure contains 51 views\n",
      "landing_orion_secure contains 3 views\n",
      "landing_pace_secure contains 1 views\n",
      "landing_payments_secure contains 23 views\n",
      "product_andromeda_secure contains 195 views\n",
      "product_identity_secure contains 1 views\n",
      "product_orion contains 31 views\n",
      "product_orion_secure contains 99 views\n",
      "product_payments_secure contains 1 views\n",
      "raw_andromeda_secure contains 418 views\n",
      "raw_identity_secure contains 2 views\n",
      "raw_orex_secure contains 11 views\n",
      "raw_orion_migration_secure contains 13 views\n",
      "raw_orion_secure contains 1 views\n",
      "raw_pace_secure contains 1 views\n",
      "raw_payments_secure contains 5 views\n",
      "\n",
      "data-engineering-prod contains 20 datasets\n"
     ]
    }
   ],
   "source": [
    "# list datasets and number of views/tables\n",
    "datasets = []\n",
    "for dataset in client.list_datasets():\n",
    "    views = list(client.list_tables(dataset=dataset.reference))\n",
    "    datasets.append(views)\n",
    "    print(dataset.dataset_id + \" contains {:d} views\".format(len(views)))\n",
    "    \n",
    "print(\"\\n\" + project_id + \" contains {:d} datasets\".format(len(datasets)))"
   ]
  },
  {
   "cell_type": "code",
   "execution_count": null,
   "metadata": {},
   "outputs": [
    {
     "name": "stdout",
     "output_type": "stream",
     "text": [
      "Collecting data on all views in data-engineering-prod. This may take some time...\n",
      "Collecting views for: landing_andromeda\n",
      "Collecting views for: landing_andromeda_secure\n",
      "Collecting views for: landing_identity_secure\n",
      "Collecting views for: landing_orex_secure\n",
      "Collecting views for: landing_orion_migration_secure\n",
      "Collecting views for: landing_orion_secure\n",
      "Collecting views for: landing_pace_secure\n",
      "Collecting views for: landing_payments_secure\n",
      "Collecting views for: product_andromeda_secure\n",
      "Collecting views for: product_identity_secure\n",
      "Collecting views for: product_orion\n",
      "Collecting views for: product_orion_secure\n",
      "Collecting views for: product_payments_secure\n",
      "Collecting views for: raw_andromeda_secure\n"
     ]
    }
   ],
   "source": [
    "# Collect data on all views within datasets\n",
    "print(\"Collecting data on all views in \" + project_id + \". This may take some time...\\n\")\n",
    "views = []\n",
    "\n",
    "for dataset in client.list_datasets():\n",
    "    print(\"Collecting views for: \" + dataset.dataset_id)\n",
    "    \n",
    "    for view in list(client.list_tables(dataset=dataset.reference)):\n",
    "        try:\n",
    "            dataset_ref = bigquery.DatasetReference(project_id, dataset.dataset_id)\n",
    "            view_ref = dataset_ref.table(view.table_id)\n",
    "            v = client.get_table(view_ref)\n",
    "            views.append(v)\n",
    "\n",
    "        except Exception, err:\n",
    "            print(err)\n",
    "            pass\n",
    "        \n",
    "print(\"\\nDone!\")"
   ]
  },
  {
   "cell_type": "code",
   "execution_count": 5,
   "metadata": {},
   "outputs": [
    {
     "name": "stdout",
     "output_type": "stream",
     "text": [
      "Example table/view and query:\n",
      "\n",
      "View: data-engineering-prod:landing_andromeda.energy_contracts_consumption_charge_generated_v2\n",
      "\n",
      "View Query:\n",
      "#standardSQL\n",
      "SELECT\n",
      "  `kafkaData`,\n",
      "  `unionRecord`,\n",
      "  `_PARTITIONTIME` `PARTITIONTIME`\n",
      "FROM\n",
      "  `data-engineering-prod.auto_capture_v2.energy_contracts_consumption_charge_generated_v2`\n",
      "\n",
      "Type: VIEW\n"
     ]
    }
   ],
   "source": [
    "# Example data from table/view\n",
    "print(\"Example table/view and query:\")\n",
    "print(\"\\nView: {}\".format(views[0].full_table_id))\n",
    "print(\"\\nView Query:\\n{}\".format(views[0].view_query))\n",
    "print(\"\\nType: {}\".format(views[0].table_type))"
   ]
  },
  {
   "cell_type": "code",
   "execution_count": 21,
   "metadata": {
    "scrolled": false
   },
   "outputs": [
    {
     "ename": "AttributeError",
     "evalue": "'TableListItem' object has no attribute 'view_query'",
     "output_type": "error",
     "traceback": [
      "\u001b[0;31m---------------------------------------------------------------------------\u001b[0m",
      "\u001b[0;31mAttributeError\u001b[0m                            Traceback (most recent call last)",
      "\u001b[0;32m<ipython-input-21-bda80e59b255>\u001b[0m in \u001b[0;36m<module>\u001b[0;34m()\u001b[0m\n\u001b[1;32m      2\u001b[0m \u001b[0;32mfor\u001b[0m \u001b[0mview\u001b[0m \u001b[0;32min\u001b[0m \u001b[0mviews\u001b[0m\u001b[0;34m:\u001b[0m\u001b[0;34m\u001b[0m\u001b[0m\n\u001b[1;32m      3\u001b[0m     \u001b[0;31m# if the table is created with a query I am assuming it is a view (https://cloud.google.com/bigquery/docs/view-metadata)\u001b[0m\u001b[0;34m\u001b[0m\u001b[0;34m\u001b[0m\u001b[0m\n\u001b[0;32m----> 4\u001b[0;31m     \u001b[0md\u001b[0m \u001b[0;34m=\u001b[0m \u001b[0;34m[\u001b[0m\u001b[0mview\u001b[0m\u001b[0;34m.\u001b[0m\u001b[0mdataset_id\u001b[0m\u001b[0;34m,\u001b[0m \u001b[0mview\u001b[0m\u001b[0;34m.\u001b[0m\u001b[0mtable_id\u001b[0m\u001b[0;34m,\u001b[0m \u001b[0mview\u001b[0m\u001b[0;34m.\u001b[0m\u001b[0mtable_type\u001b[0m\u001b[0;34m,\u001b[0m \u001b[0mview\u001b[0m\u001b[0;34m.\u001b[0m\u001b[0mview_query\u001b[0m\u001b[0;34m,\u001b[0m \u001b[0mview\u001b[0m\u001b[0;34m.\u001b[0m\u001b[0mlocation\u001b[0m\u001b[0;34m,\u001b[0m \u001b[0mview\u001b[0m\u001b[0;34m.\u001b[0m\u001b[0mnum_bytes\u001b[0m\u001b[0;34m,\u001b[0m \u001b[0mview\u001b[0m\u001b[0;34m.\u001b[0m\u001b[0mmodified\u001b[0m\u001b[0;34m.\u001b[0m\u001b[0mstrftime\u001b[0m\u001b[0;34m(\u001b[0m\u001b[0;34m'%Y-%m-%d %H:%M:%S'\u001b[0m\u001b[0;34m)\u001b[0m\u001b[0;34m,\u001b[0m \u001b[0mview\u001b[0m\u001b[0;34m.\u001b[0m\u001b[0mcreated\u001b[0m\u001b[0;34m.\u001b[0m\u001b[0mstrftime\u001b[0m\u001b[0;34m(\u001b[0m\u001b[0;34m'%Y-%m-%d %H:%M:%S'\u001b[0m\u001b[0;34m)\u001b[0m\u001b[0;34m,\u001b[0m \u001b[0mview\u001b[0m\u001b[0;34m.\u001b[0m\u001b[0mself_link\u001b[0m\u001b[0;34m]\u001b[0m\u001b[0;34m\u001b[0m\u001b[0m\n\u001b[0m\u001b[1;32m      5\u001b[0m     \u001b[0mdata\u001b[0m\u001b[0;34m.\u001b[0m\u001b[0mappend\u001b[0m\u001b[0;34m(\u001b[0m\u001b[0md\u001b[0m\u001b[0;34m)\u001b[0m\u001b[0;34m\u001b[0m\u001b[0m\n\u001b[1;32m      6\u001b[0m \u001b[0;34m\u001b[0m\u001b[0m\n",
      "\u001b[0;31mAttributeError\u001b[0m: 'TableListItem' object has no attribute 'view_query'"
     ]
    }
   ],
   "source": [
    "data = []\n",
    "for view in views:\n",
    "    # if the table is created with a query I am assuming it is a view (https://cloud.google.com/bigquery/docs/view-metadata)\n",
    "    d = [view.dataset_id, view.table_id, view.table_type, view.view_query, view.location, view.num_bytes, view.modified.strftime('%Y-%m-%d %H:%M:%S'), view.created.strftime('%Y-%m-%d %H:%M:%S'), view.self_link]\n",
    "    data.append(d)\n",
    "    \n",
    "df = pd.DataFrame(data).to_json(\"views.json\")\n",
    "pd.read_json(\"views.json\")"
   ]
  }
 ],
 "metadata": {
  "kernelspec": {
   "display_name": "Python 2",
   "language": "python",
   "name": "python2"
  },
  "language_info": {
   "codemirror_mode": {
    "name": "ipython",
    "version": 2
   },
   "file_extension": ".py",
   "mimetype": "text/x-python",
   "name": "python",
   "nbconvert_exporter": "python",
   "pygments_lexer": "ipython2",
   "version": "2.7.16"
  }
 },
 "nbformat": 4,
 "nbformat_minor": 2
}
