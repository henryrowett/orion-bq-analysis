{
 "cells": [
  {
   "cell_type": "code",
   "execution_count": 31,
   "metadata": {
    "colab": {},
    "colab_type": "code",
    "id": "qkXNgWguPqm7"
   },
   "outputs": [],
   "source": [
    "import pandas as pd\n",
    "import google.auth\n",
    "from google.auth import compute_engine\n",
    "from google.cloud import bigquery\n",
    "from google.colab import auth\n",
    "import google.cloud.bigquery.job as job\n",
    "from datetime import datetime, timedelta\n",
    "from collections import Counter\n",
    "from  __builtin__ import any as b_any\n",
    "from google.cloud import storage\n",
    "from timeit import default_timer as timer\n",
    "\n",
    "# Create the BQ client. This will ask you to log in the first time.\n",
    "\n",
    "project_id = 'data-engineering-prod'\n",
    "auth.authenticate_user()\n",
    "client = bigquery.Client(project=project_id)\n",
    "\n",
    "# list datasets and number of views/tables\n",
    "print(\"Collecting data on all views in \" + project_id + \". This may take some time...\")\n",
    "views = []\n",
    "# orion, orex, payment, identity, comms, flows, tardis, he, bast, smint, past, jaws\n",
    "orion_datasets = [\"orion\",\"orex\",\"payment\",\"identity\",\"comms\",\"flows\",\"sre\",\n",
    "                  \"tardis\",\"bast\",\"smint\",\"payments\",\"jaws\",\"onboarding\",\"pace\"]\n",
    "dataset_count = 0\n",
    "for dataset in client.list_datasets():\n",
    "  if dataset.dataset_id.startswith('u_'): continue\n",
    "  if not any(name in dataset.dataset_id for name in orion_datasets): continue\n",
    "  dataset_views = list(client.list_tables(dataset=dataset.reference))\n",
    "  dataset_count += 1\n",
    "  for view in dataset_views:\n",
    "      views.append(view)\n",
    "\n",
    "  print(dataset.dataset_id + \" contains {:d} views\".format(len(dataset_views)))\n",
    "\n",
    "print(\"\\n\" + project_id + \" contains {:d} dataset\".format(dataset_count))\n",
    "print(\"\\nDone!\")"
   ]
  },
  {
   "cell_type": "code",
   "execution_count": 32,
   "metadata": {
    "colab": {
     "base_uri": "https://localhost:8080/",
     "height": 1000
    },
    "colab_type": "code",
    "id": "yVcItLGiPqnA",
    "outputId": "c61b02ae-26fc-4292-faf5-6e52af05295e"
   },
   "outputs": [
    {
     "name": "stdout",
     "output_type": "stream",
     "text": [
      "Collecting data on all views in andromeda-data-nonprod. This may take some time...\n",
      "\n",
      "Collecting views for: acquisitions_reporting\n",
      "acquisitions_reporting contains 2 views\n",
      "\n",
      "Collecting views for: bast_reporting\n",
      "bast_reporting contains 2 views\n",
      "\n",
      "Collecting views for: brunel_billing_exceptions\n",
      "brunel_billing_exceptions contains 0 views\n",
      "\n",
      "Collecting views for: brunel_orion_analytics_cloud_composer_test\n",
      "brunel_orion_analytics_cloud_composer_test contains 30 views\n",
      "\n",
      "Collecting views for: cais\n",
      "cais contains 3 views\n",
      "\n",
      "Collecting views for: compliance_reporting\n",
      "compliance_reporting contains 10 views\n",
      "\n",
      "Collecting views for: data_analytics_reference\n",
      "data_analytics_reference contains 1 views\n",
      "\n",
      "Collecting views for: dse_reporting\n",
      "dse_reporting contains 4 views\n",
      "\n",
      "Collecting views for: eligibility\n",
      "eligibility contains 147 views\n",
      "\n",
      "Collecting views for: home_moves_reporting\n",
      "home_moves_reporting contains 2 views\n",
      "\n",
      "Collecting views for: migration_reporting\n",
      "migration_reporting contains 2 views\n",
      "\n",
      "Collecting views for: monitoring\n",
      "monitoring contains 2 views\n",
      "\n",
      "Collecting views for: orion_analytics_scratch_space\n",
      "orion_analytics_scratch_space contains 0 views\n",
      "\n",
      "Collecting views for: orion_finance\n",
      "orion_finance contains 5 views\n",
      "\n",
      "Collecting views for: orion_reporting\n",
      "orion_reporting contains 18 views\n",
      "\n",
      "Collecting views for: pace_reporting\n",
      "pace_reporting contains 4 views\n",
      "\n",
      "Collecting views for: sse_eligibility\n",
      "sse_eligibility contains 16 views\n",
      "\n",
      "Collecting views for: switching_overcharge\n",
      "switching_overcharge contains 8 views\n",
      "\n",
      "Collecting views for: test_log_export\n",
      "test_log_export contains 1 views\n",
      "\n",
      "Collecting views for: test_log_export_eu\n",
      "test_log_export_eu contains 1 views\n",
      "\n",
      "Collecting views for: usabilla\n",
      "usabilla contains 23 views\n",
      "\n",
      "andromeda-data-nonprod contains 21 dataset\n",
      "\n",
      "Done!\n"
     ]
    }
   ],
   "source": [
    "# list datasets and number of views/tables\n",
    "print(\"Collecting data on all views in \" + project_id + \". This may take some time...\")\n",
    "views = []\n",
    "dataset_count = 0\n",
    "dataset_info = []\n",
    "for dataset in client.list_datasets():\n",
    "  if dataset.dataset_id.startswith('u_'): continue\n",
    "  dataset_views = list(client.list_tables(dataset=dataset.reference))\n",
    "  dataset_info.append([dataset.dataset_id, len(dataset_views)])\n",
    "\n",
    "  dataset_count += 1\n",
    "  for view in dataset_views:\n",
    "  #  try:\n",
    "  #    dataset_ref = bigquery.DatasetReference(project_id, dataset.dataset_id)\n",
    "  #    view_ref = dataset_ref.table(view.table_id)\n",
    "  #    v = client.get_table(view_ref)\n",
    "      views.append(view)\n",
    "\n",
    "  #  except Exception, err:\n",
    "  #    print(err)\n",
    "  #    pass\n",
    "\n",
    "  print(dataset.dataset_id + \" contains {:d} views\".format(len(dataset_views)))\n",
    "\n",
    "print(\"\\n\" + project_id + \" contains {:d} dataset\".format(dataset_count))\n",
    "print(\"\\nDone!\")"
   ]
  },
  {
   "cell_type": "code",
   "execution_count": 33,
   "metadata": {
    "colab": {},
    "colab_type": "code",
    "id": "bq_KYmxRPqnL",
    "scrolled": false
   },
   "outputs": [],
   "source": [
    "from google.cloud import storage\n",
    "\n",
    "# UPLOAD VIEWS \n",
    "# write data to newline delimited json file\n",
    "json_file = \"data_engineering_prod_bq_analysis.json\"\n",
    "columns = [\"full_table_id\",\"dataset_id\",\"type\",\"created\"] #\"query\",\"location\",\"multi_regional\",\"bytes\",\"created\", \"last_modified\"]\n",
    "df = pd.DataFrame(data, columns=columns)\n",
    "# bq requires newline delimited json so append line break\n",
    "file = open(json_file, \"w\")\n",
    "for row in df.iterrows():\n",
    "  row[1].to_json(file)\n",
    "  file.write(\"\\n\")\n",
    "file.close()\n",
    "\n",
    "# write the results to a gc bucket \n",
    "client = storage.Client(project=project_id)\n",
    "bucket = client.get_bucket(\"data-engineering-prod-bq-analysis\")\n",
    "blob = bucket.blob(json_file)\n",
    "\n",
    "with open('data_engineering_prod_bq_analysis.json', 'rb') as file:\n",
    "  blob.upload_from_file(file)\n",
    "\n",
    "# write data to data-integration-prod\n",
    "# to update the results we will wipe the existing table and replace it\n",
    "project_id = 'data-integration-prod'\n",
    "dataset_id = 'data_engineering_prod_bq_analysis'\n",
    "table_id = 'data_engineering_prod_bq_analysis'\n",
    "full_table_id = project_id + '.' + dataset_id + '.' + table_id\n",
    "client = bigquery.Client(project=project_id)\n",
    "\n",
    "# remove existing table\n",
    "client.delete_table(full_table_id, not_found_ok=True) \n",
    "\n",
    "# write new table\n",
    "job_config = bigquery.LoadJobConfig(autodetect=True, \n",
    "            source_format=bigquery.SourceFormat.NEWLINE_DELIMITED_JSON)\n",
    "uri = \"gs://data-engineering-prod-bq-analysis/data_engineering_prod_bq_analysis.json\"\n",
    "load_job = client.load_table_from_uri(\n",
    "    uri, full_table_id, job_config=job_config)  # Make an API request.\n",
    "load_job.result() \n",
    "\n",
    "# check the number of rows loaded into the table is correct\n",
    "destination_table = client.get_table(full_table_id)\n",
    "print(\"Loaded {} rows.\".format(destination_table.num_rows))\n",
    "assert(len(views) == destination_table.num_rows)"
   ]
  },
  {
   "cell_type": "code",
   "execution_count": 36,
   "metadata": {
    "colab": {
     "base_uri": "https://localhost:8080/",
     "height": 34
    },
    "colab_type": "code",
    "id": "8hGFlSKjPqnU",
    "outputId": "7e12bbc6-3025-4883-f3d0-075e09f3a796"
   },
   "outputs": [
    {
     "name": "stdout",
     "output_type": "stream",
     "text": [
      "Loaded 281 rows.\n"
     ]
    }
   ],
   "source": [
    "from google.cloud import storage\n",
    "\n",
    "# UPLOAD DATASET INFO \n",
    "# write data to newline delimited json file\n",
    "json_file = \"data_engineering_prod_bq_dataset_analysis.json\"\n",
    "columns = [\"dataset_id\",\"number_of_objects\"] \n",
    "df = pd.DataFrame(dataset_info, columns=columns)\n",
    "# bq requires newline delimited json so append line break\n",
    "file = open(json_file, \"w\")\n",
    "for row in df.iterrows():\n",
    "  row[1].to_json(file)\n",
    "  file.write(\"\\n\")\n",
    "file.close()\n",
    "\n",
    "# write the results to a gc bucket \n",
    "client = storage.Client(project=project_id)\n",
    "bucket = client.get_bucket(\"data-engineering-prod-bq-analysis\")\n",
    "blob = bucket.blob(json_file)\n",
    "\n",
    "with open('data_engineering_prod_bq_dataset_analysis.json', 'rb') as file:\n",
    "  blob.upload_from_file(file)\n",
    "\n",
    "# write data to data-integration-prod\n",
    "# to update the results we will wipe the existing table and replace it\n",
    "project_id = 'data-integration-prod'\n",
    "dataset_id = 'data_engineering_prod_bq_analysis'\n",
    "table_id = 'data_engineering_prod_bq_dataset_analysis'\n",
    "full_table_id = project_id + '.' + dataset_id + '.' + table_id\n",
    "client = bigquery.Client(project=project_id)\n",
    "\n",
    "# remove existing table\n",
    "client.delete_table(full_table_id, not_found_ok=True) \n",
    "\n",
    "# write new table\n",
    "job_config = bigquery.LoadJobConfig(autodetect=True, \n",
    "            source_format=bigquery.SourceFormat.NEWLINE_DELIMITED_JSON)\n",
    "uri = \"gs://data-engineering-prod-bq-analysis/data_engineering_prod_bq_dataset_analysis.json\"\n",
    "load_job = client.load_table_from_uri(\n",
    "    uri, full_table_id, job_config=job_config)  # Make an API request.\n",
    "load_job.result() \n",
    "\n",
    "# check the number of rows loaded into the table is correct\n",
    "destination_table = client.get_table(full_table_id)\n",
    "print(\"Loaded {} rows.\".format(destination_table.num_rows))\n",
    "assert(len(dataset_info) == destination_table.num_rows)"
   ]
  },
  {
   "cell_type": "code",
   "execution_count": 37,
   "metadata": {
    "colab": {
     "base_uri": "https://localhost:8080/",
     "height": 34
    },
    "colab_type": "code",
    "id": "2PMsLuobVCWS",
    "outputId": "f873d419-5152-4394-a1b0-d00f2b2918d7"
   },
   "outputs": [
    {
     "name": "stdout",
     "output_type": "stream",
     "text": [
      "Table number: 118\n"
     ]
    }
   ],
   "source": [
    "# VIEW/TABLE DEPENDENCIES\n",
    "\n",
    "# check which views use which tables\n",
    "views_only = filter(lambda view: view.table_type == \"VIEW\", views)\n",
    "tables_only = filter(lambda table: table.table_type == \"TABLE\", views)\n",
    "print(\"Table number: {}\".format(len(tables_only)))\n",
    "\n",
    "view_table_dependencies = []\n",
    "for table in tables_only:\n",
    "  views_list = []\n",
    "  for view in views_only:\n",
    "    if table.table_id in view.view_query:\n",
    "      views_list.append(view.table_id)\n",
    "  view_table_dependencies.append([table.full_table_id, views_list])"
   ]
  },
  {
   "cell_type": "code",
   "execution_count": 38,
   "metadata": {
    "colab": {},
    "colab_type": "code",
    "id": "CbwNsHLdeTJo"
   },
   "outputs": [],
   "source": [
    "# write data to newline delimited json file\n",
    "json_file = \"data_engineering_prod_bq_table_view_dependency_analysis.json\"\n",
    "columns = [\"full_table_id\",\"views_using_table\"]\n",
    "df = pd.DataFrame(view_table_dependencies, columns=columns)\n",
    "# bq requires newline delimited json so append line break\n",
    "file = open(json_file, \"w\")\n",
    "for row in df.iterrows():\n",
    "  row[1].to_json(file)\n",
    "  file.write(\"\\n\")\n",
    "file.close()"
   ]
  },
  {
   "cell_type": "code",
   "execution_count": 39,
   "metadata": {
    "colab": {},
    "colab_type": "code",
    "id": "Qvrw4IurfELf"
   },
   "outputs": [],
   "source": [
    "from google.cloud import storage\n",
    "\n",
    "# write the results to a gc bucket \n",
    "client = storage.Client(project=project_id)\n",
    "bucket = client.get_bucket(\"data-engineering-prod-bq-analysis\")\n",
    "blob = bucket.blob(json_file)\n",
    "\n",
    "with open('data_engineering_prod_bq_table_view_dependency_analysis.json', 'rb') as file:\n",
    "  blob.upload_from_file(file)"
   ]
  },
  {
   "cell_type": "code",
   "execution_count": 40,
   "metadata": {
    "colab": {
     "base_uri": "https://localhost:8080/",
     "height": 34
    },
    "colab_type": "code",
    "id": "wgx6G9r8fNKH",
    "outputId": "6018c165-023b-48dc-e59b-eb8fc1c870c8"
   },
   "outputs": [
    {
     "name": "stdout",
     "output_type": "stream",
     "text": [
      "Loaded 118 rows.\n"
     ]
    }
   ],
   "source": [
    "# write data to data-integration-prod\n",
    "# to update the results we will wipe the existing table and replace it\n",
    "project_id = 'data-integration-prod'\n",
    "dataset_id = 'data_engineering_prod_bq_analysis'\n",
    "table_id = 'data_engineering_prod_bq_table_view_dependency_analysis'\n",
    "full_table_id = project_id + '.' + dataset_id + '.' + table_id\n",
    "client = bigquery.Client(project=project_id)\n",
    "\n",
    "# remove existing table\n",
    "client.delete_table(full_table_id, not_found_ok=True)\n",
    "\n",
    "# write new table\n",
    "job_config = bigquery.LoadJobConfig(autodetect=True, \n",
    "            source_format=bigquery.SourceFormat.NEWLINE_DELIMITED_JSON)\n",
    "uri = \"gs://data-engineering-prod-bq-analysis/data_engineering_prod_bq_table_view_dependency_analysis.json\"\n",
    "load_job = client.load_table_from_uri(\n",
    "    uri, full_table_id, job_config=job_config)  # Make an API request.\n",
    "load_job.result() \n",
    "\n",
    "# check the number of rows loaded into the table is correct\n",
    "destination_table = client.get_table(full_table_id)\n",
    "print(\"Loaded {} rows.\".format(destination_table.num_rows))\n",
    "assert(len(view_table_dependencies) == destination_table.num_rows)"
   ]
  },
  {
   "cell_type": "code",
   "execution_count": 41,
   "metadata": {
    "colab": {},
    "colab_type": "code",
    "id": "v-_c73Vv1PTN"
   },
   "outputs": [],
   "source": [
    "### COST ANALYSIS ###\n",
    "# This section is for the cost analysis of existing tables and views in the project\n",
    "\n",
    "# https://cloud.google.com/bigquery/pricing\n",
    "\n",
    "# - cost of storage (bytes)\n",
    "# - region/multi\n",
    "# - partitioned\n",
    "# - expiration\n",
    "\n",
    "# collect relevant data\n",
    "cost_data = []\n",
    "\n",
    "# https://cloud.google.com/bigquery/docs/locations\n",
    "# indicates \"EU\" & \"US\" are multi-regional locations\n",
    "multi_regional = [\"EU\", \"US\"]\n",
    "\n",
    "for view in views:\n",
    "  multi = True if view.location in multi_regional else False\n",
    "\n",
    "  d = [view.full_table_id,\n",
    "      view.location, \n",
    "      multi,\n",
    "      view.num_bytes, \n",
    "      view.expires.strftime('%Y-%m-%d %H:%M:%S') if view.expires != None else None,\n",
    "      view.partitioning_type,\n",
    "      view.partition_expiration.strftime('%Y-%m-%d %H:%M:%S') if view.partition_expiration != None else None,\n",
    "      ]\n",
    "  cost_data.append(d)"
   ]
  },
  {
   "cell_type": "code",
   "execution_count": 42,
   "metadata": {
    "colab": {},
    "colab_type": "code",
    "id": "8dotILs51PTR"
   },
   "outputs": [],
   "source": [
    "# write data to newline delimited json file\n",
    "json_file = \"data_engineering_prod_bq_cost_analysis.json\"\n",
    "columns = [\"full_table_id\",\"location\",\"multi\",\"bytes\",\"expiration\",\"partition\",\"partition_expiration\"]\n",
    "df = pd.DataFrame(cost_data, columns=columns)\n",
    "# bq requires newline delimited json so append line break\n",
    "file = open(json_file, \"w\")\n",
    "for row in df.iterrows():\n",
    "  row[1].to_json(file)\n",
    "  file.write(\"\\n\")\n",
    "file.close()"
   ]
  },
  {
   "cell_type": "code",
   "execution_count": 43,
   "metadata": {
    "colab": {},
    "colab_type": "code",
    "id": "yEKQEco31PTT"
   },
   "outputs": [],
   "source": [
    "from google.cloud import storage\n",
    "\n",
    "# write the results to a gc bucket \n",
    "client = storage.Client(project=project_id)\n",
    "bucket = client.get_bucket(\"data-engineering-prod-bq-analysis\")\n",
    "blob = bucket.blob(json_file)\n",
    "\n",
    "with open('data_engineering_prod_bq_cost_analysis.json', 'rb') as file:\n",
    "  blob.upload_from_file(file)"
   ]
  },
  {
   "cell_type": "code",
   "execution_count": 44,
   "metadata": {
    "colab": {
     "base_uri": "https://localhost:8080/",
     "height": 34
    },
    "colab_type": "code",
    "id": "9q7GRT5G1PTW",
    "outputId": "830f74f6-d56a-45ca-f0ed-7585be34e5b6"
   },
   "outputs": [
    {
     "name": "stdout",
     "output_type": "stream",
     "text": [
      "Loaded 281 rows.\n"
     ]
    }
   ],
   "source": [
    "# write data to data-integration-prod\n",
    "# to update the results we will wipe the existing table and replace it\n",
    "project_id = 'data-integration-prod'\n",
    "dataset_id = 'data_engineering_prod_bq_analysis'\n",
    "table_id = 'data_engineering_prod_bq_cost_analysis'\n",
    "full_table_id = project_id + '.' + dataset_id + '.' + table_id\n",
    "client = bigquery.Client(project=project_id)\n",
    "\n",
    "# remove existing table\n",
    "client.delete_table(full_table_id, not_found_ok=True)\n",
    "\n",
    "# write new table\n",
    "job_config = bigquery.LoadJobConfig(autodetect=True, \n",
    "            source_format=bigquery.SourceFormat.NEWLINE_DELIMITED_JSON)\n",
    "uri = \"gs://data-engineering-prod-bq-analysis/data_engineering_prod_bq_cost_analysis.json\"\n",
    "load_job = client.load_table_from_uri(\n",
    "    uri, full_table_id, job_config=job_config)  # Make an API request.\n",
    "load_job.result() \n",
    "\n",
    "# check the number of rows loaded into the table is correct\n",
    "destination_table = client.get_table(full_table_id)\n",
    "print(\"Loaded {} rows.\".format(destination_table.num_rows))\n",
    "assert(len(cost_data) == destination_table.num_rows)"
   ]
  },
  {
   "cell_type": "code",
   "execution_count": null,
   "metadata": {
    "colab": {},
    "colab_type": "code",
    "id": "7P2PxHWuDzKx"
   },
   "outputs": [],
   "source": []
  }
 ],
 "metadata": {
  "colab": {
   "name": "orion_data_analysis.ipynb",
   "provenance": []
  },
  "kernelspec": {
   "display_name": "Python 2",
   "language": "python",
   "name": "python2"
  },
  "language_info": {
   "codemirror_mode": {
    "name": "ipython",
    "version": 2
   },
   "file_extension": ".py",
   "mimetype": "text/x-python",
   "name": "python",
   "nbconvert_exporter": "python",
   "pygments_lexer": "ipython2",
   "version": "2.7.16"
  }
 },
 "nbformat": 4,
 "nbformat_minor": 1
}
